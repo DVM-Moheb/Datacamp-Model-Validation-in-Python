{
 "cells": [
  {
   "cell_type": "markdown",
   "id": "4109c54c-a494-497a-8dae-eb91c1aafdfb",
   "metadata": {},
   "source": [
    "# Chapter #4: Selecting the Best Model with Hyperparameter Tuning"
   ]
  },
  {
   "cell_type": "code",
   "execution_count": 1,
   "id": "e8da3585-a6be-4acd-85b8-db05bfe390fa",
   "metadata": {},
   "outputs": [],
   "source": [
    "import numpy as np\n",
    "import pandas as pd\n",
    "from sklearn.ensemble import RandomForestClassifier\n",
    "from sklearn.ensemble import RandomForestRegressor\n",
    "from sklearn.model_selection import train_test_split, KFold, cross_val_score, RandomizedSearchCV\n",
    "from sklearn.metrics import mean_absolute_error as mae\n",
    "from sklearn.metrics import mean_squared_error as mse\n",
    "from sklearn.metrics import confusion_matrix, accuracy_score, recall_score, precision_score, make_scorer"
   ]
  },
  {
   "cell_type": "markdown",
   "id": "2da7a822-8598-4306-a0bf-d45eff7d355f",
   "metadata": {},
   "source": [
    "## 1. Introduction to hyperparameter tuning"
   ]
  },
  {
   "cell_type": "markdown",
   "id": "ac6cd0f0-2c4b-424f-877f-8699404589d8",
   "metadata": {},
   "source": [
    "### 1.1. Creating Hyperparameters"
   ]
  },
  {
   "cell_type": "markdown",
   "id": "26e17ff2-f83b-4d67-9115-adcb9db73521",
   "metadata": {},
   "source": [
    "For a school assignment, your professor has asked your class to create a random forest model to predict the average test score for the final exam.\n",
    "\n",
    "After developing an initial random forest model, you are unsatisfied with the overall accuracy. You realize that there are too many hyperparameters to choose from, and each one has a lot of possible values. You have decided to make a list of possible ranges for the hyperparameters you might use in your next model.\n",
    "\n",
    "Your professor has provided de-identified data for the last ten quizzes to act as the training data. There are 30 students in your class."
   ]
  },
  {
   "cell_type": "markdown",
   "id": "02ebbfdc-103d-4c37-ab41-bb3a6f575ea7",
   "metadata": {},
   "source": [
    "- Getting everything ready."
   ]
  },
  {
   "cell_type": "code",
   "execution_count": 2,
   "id": "ebd943f4-7266-4278-af6e-02a22bffcbf2",
   "metadata": {},
   "outputs": [],
   "source": [
    "# Initiating the model:\n",
    "rfr = RandomForestRegressor(random_state=1111)"
   ]
  },
  {
   "cell_type": "markdown",
   "id": "5ade1194-6dc7-444f-bd0e-970cf10844eb",
   "metadata": {},
   "source": [
    "- Print `.get_params()` in the console to review the possible parameters of the model that you can tune."
   ]
  },
  {
   "cell_type": "code",
   "execution_count": 3,
   "id": "f7cf0c91-8c76-4c39-85d6-8640c36145ff",
   "metadata": {},
   "outputs": [
    {
     "name": "stdout",
     "output_type": "stream",
     "text": [
      "{'bootstrap': True, 'ccp_alpha': 0.0, 'criterion': 'squared_error', 'max_depth': None, 'max_features': 'auto', 'max_leaf_nodes': None, 'max_samples': None, 'min_impurity_decrease': 0.0, 'min_samples_leaf': 1, 'min_samples_split': 2, 'min_weight_fraction_leaf': 0.0, 'n_estimators': 100, 'n_jobs': None, 'oob_score': False, 'random_state': 1111, 'verbose': 0, 'warm_start': False}\n"
     ]
    }
   ],
   "source": [
    "# Printing the model parameters:\n",
    "print(rfr.get_params())"
   ]
  },
  {
   "cell_type": "markdown",
   "id": "5658b149-b7af-446d-84ea-06eb80396a18",
   "metadata": {},
   "source": [
    "- Create a maximum depth list, `[4, 8, 12]` and a minimum samples list `[2, 5, 10]` that specify possible values for each hyperparameter."
   ]
  },
  {
   "cell_type": "code",
   "execution_count": 4,
   "id": "2d79f666-5556-48e1-a7ab-f42ddb36db30",
   "metadata": {},
   "outputs": [],
   "source": [
    "# Creating a list for possible values of max_depth & min_samples_split:\n",
    "max_depth = [4, 8, 12]\n",
    "min_samples_split = [2, 5, 10]"
   ]
  },
  {
   "cell_type": "markdown",
   "id": "ff5633f4-db10-4f28-ba4c-4607fd49316f",
   "metadata": {},
   "source": [
    "- Create one final list to use for the maximum features.\n",
    "> Use values 4 through the maximum number of features possible (10), by 2."
   ]
  },
  {
   "cell_type": "code",
   "execution_count": 5,
   "id": "1cf5b956-3d51-46cc-bd33-73dc4f38b057",
   "metadata": {},
   "outputs": [],
   "source": [
    "# Creating a list for possible values of max_features:\n",
    "max_features = [4, 6, 8, 10]"
   ]
  },
  {
   "cell_type": "markdown",
   "id": "b49a47cf-4cfe-4cbf-9356-5ae0d2740554",
   "metadata": {},
   "source": [
    "### 1.2. Running a model using ranges"
   ]
  },
  {
   "cell_type": "markdown",
   "id": "05059d87-fbe6-45e0-b79e-b8d583a7e64d",
   "metadata": {},
   "source": [
    "You have just finished creating a list of hyperparameters and ranges to use when tuning a predictive model for an assignment. You have used `max_depth`, `min_samples_split`, and `max_features` as your range variable names."
   ]
  },
  {
   "cell_type": "markdown",
   "id": "cb8a2927-55e3-4c56-a9d9-e05212b1232f",
   "metadata": {},
   "source": [
    "- Randomly select a max_depth, min_samples_split, and max_features using your range variables."
   ]
  },
  {
   "cell_type": "code",
   "execution_count": 6,
   "id": "172ef589-5e84-4d57-8fe3-1582b0841190",
   "metadata": {},
   "outputs": [],
   "source": [
    "# Setting the default randon number generator:\n",
    "randn_gen = np.random.default_rng(1111)"
   ]
  },
  {
   "cell_type": "code",
   "execution_count": 7,
   "id": "7188b075-ab83-42bb-bda8-afbaefeb7be7",
   "metadata": {},
   "outputs": [],
   "source": [
    "# Setting somerandom values for the hyperparameters in question:\n",
    "rfr = RandomForestRegressor(n_estimators=100,\n",
    "                            max_depth=randn_gen.choice(max_depth),\n",
    "                            min_samples_split=randn_gen.choice(min_samples_split),\n",
    "                            max_features=randn_gen.choice(max_features))"
   ]
  },
  {
   "cell_type": "markdown",
   "id": "9c3d2be0-d2d0-4b6e-94ed-d7f056f7ccbc",
   "metadata": {},
   "source": [
    "- Print out all of the parameters for rfr to see which values were randomly selected."
   ]
  },
  {
   "cell_type": "code",
   "execution_count": 8,
   "id": "f35aaeb8-bf08-4167-a342-85a7d44c60ef",
   "metadata": {},
   "outputs": [
    {
     "name": "stdout",
     "output_type": "stream",
     "text": [
      "{'bootstrap': True, 'ccp_alpha': 0.0, 'criterion': 'squared_error', 'max_depth': 12, 'max_features': 10, 'max_leaf_nodes': None, 'max_samples': None, 'min_impurity_decrease': 0.0, 'min_samples_leaf': 1, 'min_samples_split': 10, 'min_weight_fraction_leaf': 0.0, 'n_estimators': 100, 'n_jobs': None, 'oob_score': False, 'random_state': None, 'verbose': 0, 'warm_start': False}\n"
     ]
    }
   ],
   "source": [
    "# Printing the model parameters:\n",
    "print(rfr.get_params())"
   ]
  },
  {
   "cell_type": "markdown",
   "id": "2cf8e064-aa23-41e4-b958-6737afe0f383",
   "metadata": {},
   "source": [
    "## 2.RandomizedSearchCV"
   ]
  },
  {
   "cell_type": "markdown",
   "id": "55e60676-c196-4cb5-ad64-87f4a67b92ed",
   "metadata": {},
   "source": [
    "### 2.1. Preparing for RandomizedSearch"
   ]
  },
  {
   "cell_type": "markdown",
   "id": "0802ffff-8fa5-4f52-b2c8-6f185fee411b",
   "metadata": {},
   "source": [
    "Last semester your professor challenged your class to build a predictive model to predict final exam test scores. You tried running a few different models by randomly selecting hyperparameters. However, running each model required you to code it individually.\n",
    "\n",
    "After learning about `RandomizedSearchCV()`, you're revisiting your professors challenge to build the best model. In this exercise, you will prepare the three necessary inputs for completing a random search."
   ]
  },
  {
   "cell_type": "markdown",
   "id": "e982ae1a-9221-4d39-9914-a8eb4a3e3126",
   "metadata": {},
   "source": [
    "- Finalize the parameter dictionary by adding a list for the max_depth parameter with options 2, 4, 6, and 8."
   ]
  },
  {
   "cell_type": "code",
   "execution_count": 9,
   "id": "8c87b168-e148-4b03-9908-87bc65833c5d",
   "metadata": {},
   "outputs": [],
   "source": [
    "# Setting the param_dist dictionary:\n",
    "param_dist = {\"max_depth\": [2, 4, 6, 8],\n",
    "              \"max_features\": [2, 4, 6, 8, 10],\n",
    "              \"min_samples_split\": [2, 4, 8, 16]}"
   ]
  },
  {
   "cell_type": "markdown",
   "id": "50a8fcba-621a-4b1b-a427-084bbbf79569",
   "metadata": {},
   "source": [
    "- Create a random forest regression model with ten trees and a random_state of 1111."
   ]
  },
  {
   "cell_type": "code",
   "execution_count": 10,
   "id": "3bb4fdd9-16c0-4b82-b71b-84ea475f7c09",
   "metadata": {},
   "outputs": [],
   "source": [
    "# Initializing the model:\n",
    "rfr = RandomForestRegressor(n_estimators=10, random_state=1111)"
   ]
  },
  {
   "cell_type": "markdown",
   "id": "4e965870-2763-4ff2-8a10-7e1e00a8febd",
   "metadata": {},
   "source": [
    "- Create a mean squared error scorer to use."
   ]
  },
  {
   "cell_type": "code",
   "execution_count": 11,
   "id": "a5c2323c-6d29-416c-8858-4c9b2b5342dd",
   "metadata": {},
   "outputs": [],
   "source": [
    "# Creating a scoring strategy:\n",
    "scorer = make_scorer(mse, greater_is_better=False)"
   ]
  },
  {
   "cell_type": "markdown",
   "id": "29a672a7-fd00-4b1c-84e8-5e4d511ad2c1",
   "metadata": {},
   "source": [
    "## 2.2. Implementing RandomizedSearchCV"
   ]
  },
  {
   "cell_type": "markdown",
   "id": "2dc317b9-247f-4682-b042-5ba9f8d9fbea",
   "metadata": {},
   "source": [
    "You are hoping that using a random search algorithm will help you improve predictions for a class assignment. You professor has challenged your class to predict the overall final exam average score.\n",
    "\n",
    "In preparation for completing a random search, you have created:\n",
    "\n",
    "> - `param_dist`: the hyperparameter distributions\n",
    "> - `rfr`: a random forest regression model\n",
    "> -`scorer`: a scoring method to use"
   ]
  },
  {
   "cell_type": "markdown",
   "id": "3030ca97-a991-4585-a6a3-ea08cd8845f3",
   "metadata": {},
   "source": [
    "- Load the method for conducting a random search in `sklearn`."
   ]
  },
  {
   "cell_type": "markdown",
   "id": "b32ec78b-3c2a-4686-891f-e811575ce6c3",
   "metadata": {},
   "source": [
    "> Done"
   ]
  },
  {
   "cell_type": "markdown",
   "id": "f6133a1b-c7a8-4f91-be7b-e28bb9b5f110",
   "metadata": {},
   "source": [
    "- Complete a random search by filling in the parameters: `estimator`, `param_distributions`, and `scoring`."
   ]
  },
  {
   "cell_type": "markdown",
   "id": "95eb7401-9fba-4bdd-a92f-41467e0f3b75",
   "metadata": {},
   "source": [
    "- Use 5-fold cross validation for this random search."
   ]
  },
  {
   "cell_type": "code",
   "execution_count": 12,
   "id": "f416b78e-f70c-481f-9fa7-4932f325307a",
   "metadata": {},
   "outputs": [],
   "source": [
    "# Setting the randomized search options:\n",
    "random_search = RandomizedSearchCV(estimator=rfr,\n",
    "                                   param_distributions=param_dist,\n",
    "                                   scoring=scorer,\n",
    "                                   cv=5, random_state=1111)"
   ]
  },
  {
   "cell_type": "markdown",
   "id": "d860c5a8-286d-49a4-99b8-d552ddb5b592",
   "metadata": {},
   "source": [
    "## 3. Selecting your final model"
   ]
  },
  {
   "cell_type": "markdown",
   "id": "9fbc2189-233f-4e37-bf76-0819057bb5a1",
   "metadata": {},
   "source": [
    "### 3.1. Best classification accuracy"
   ]
  },
  {
   "cell_type": "markdown",
   "id": "2a657bec-504c-49d5-bce6-e11f4992e0ed",
   "metadata": {},
   "source": [
    "You are in a competition at work to build the best model for predicting the winner of a Tic-Tac-Toe game. You already ran a random search and saved the results of the most accurate model to `rs`.\n",
    "\n",
    "Which parameter set produces the best classification accuracy?"
   ]
  },
  {
   "cell_type": "markdown",
   "id": "c8e0026b-455e-4bb6-a5be-e6035d8fb493",
   "metadata": {},
   "source": [
    "> `{'max_depth': 12, 'min_samples_split': 4, 'n_estimators': 20}`"
   ]
  },
  {
   "cell_type": "markdown",
   "id": "1911f7c8-421d-4db0-b52e-230b310bb57f",
   "metadata": {},
   "source": [
    "### 3.2. Selecting the best precision model"
   ]
  },
  {
   "cell_type": "markdown",
   "id": "7da79a83-fa0d-4f49-9ca2-3da9492cdf67",
   "metadata": {},
   "source": [
    "Your boss has offered to pay for you to see three sports games this year. Of the 41 home games your favorite team plays, you want to ensure you go to three home games that they will definitely win. You build a model to decide which games your team will win.\n",
    "\n",
    "To do this, you will build a random search algorithm and focus on model precision (to ensure your team wins). You also want to keep track of your best model and best parameters, so that you can use them again next year (if the model does well, of course). You have already decided on using the random forest classification model `rfc` and generated a parameter distribution `param_dist`."
   ]
  },
  {
   "cell_type": "markdown",
   "id": "c814c707-b23a-4e34-89f7-7f9a8366eaba",
   "metadata": {},
   "source": [
    "- Getting everything ready."
   ]
  },
  {
   "cell_type": "markdown",
   "id": "4443946d-2552-426f-aaa4-8035594740a6",
   "metadata": {},
   "source": [
    "> This data isn't available outside the workspace, so I will use the `tic_tic_toe` data instead."
   ]
  },
  {
   "cell_type": "code",
   "execution_count": 13,
   "id": "5d9711d5-c5ab-409a-a0e0-6c59bfceb397",
   "metadata": {},
   "outputs": [],
   "source": [
    "# Reading the data:\n",
    "tic_tac_toe = pd.read_csv(\"./data/tic-tac-toe.csv\")"
   ]
  },
  {
   "cell_type": "code",
   "execution_count": 14,
   "id": "fca9ddb9-0594-4e94-a7ee-5cbcecdfb539",
   "metadata": {},
   "outputs": [
    {
     "data": {
      "text/plain": [
       "(958, 10)"
      ]
     },
     "execution_count": 14,
     "metadata": {},
     "output_type": "execute_result"
    }
   ],
   "source": [
    "# Exploring the data shape:\n",
    "tic_tac_toe.shape"
   ]
  },
  {
   "cell_type": "code",
   "execution_count": 15,
   "id": "eee8336a-3d10-4cb0-9421-22066467a75a",
   "metadata": {},
   "outputs": [
    {
     "data": {
      "text/html": [
       "<div>\n",
       "<style scoped>\n",
       "    .dataframe tbody tr th:only-of-type {\n",
       "        vertical-align: middle;\n",
       "    }\n",
       "\n",
       "    .dataframe tbody tr th {\n",
       "        vertical-align: top;\n",
       "    }\n",
       "\n",
       "    .dataframe thead th {\n",
       "        text-align: right;\n",
       "    }\n",
       "</style>\n",
       "<table border=\"1\" class=\"dataframe\">\n",
       "  <thead>\n",
       "    <tr style=\"text-align: right;\">\n",
       "      <th></th>\n",
       "      <th>Top-Left</th>\n",
       "      <th>Top-Middle</th>\n",
       "      <th>Top-Right</th>\n",
       "      <th>Middle-Left</th>\n",
       "      <th>Middle-Middle</th>\n",
       "      <th>Middle-Right</th>\n",
       "      <th>Bottom-Left</th>\n",
       "      <th>Bottom-Middle</th>\n",
       "      <th>Bottom-Right</th>\n",
       "      <th>Class</th>\n",
       "    </tr>\n",
       "  </thead>\n",
       "  <tbody>\n",
       "    <tr>\n",
       "      <th>0</th>\n",
       "      <td>x</td>\n",
       "      <td>x</td>\n",
       "      <td>x</td>\n",
       "      <td>x</td>\n",
       "      <td>o</td>\n",
       "      <td>o</td>\n",
       "      <td>x</td>\n",
       "      <td>o</td>\n",
       "      <td>o</td>\n",
       "      <td>positive</td>\n",
       "    </tr>\n",
       "    <tr>\n",
       "      <th>1</th>\n",
       "      <td>x</td>\n",
       "      <td>x</td>\n",
       "      <td>x</td>\n",
       "      <td>x</td>\n",
       "      <td>o</td>\n",
       "      <td>o</td>\n",
       "      <td>o</td>\n",
       "      <td>x</td>\n",
       "      <td>o</td>\n",
       "      <td>positive</td>\n",
       "    </tr>\n",
       "    <tr>\n",
       "      <th>2</th>\n",
       "      <td>x</td>\n",
       "      <td>x</td>\n",
       "      <td>x</td>\n",
       "      <td>x</td>\n",
       "      <td>o</td>\n",
       "      <td>o</td>\n",
       "      <td>o</td>\n",
       "      <td>o</td>\n",
       "      <td>x</td>\n",
       "      <td>positive</td>\n",
       "    </tr>\n",
       "    <tr>\n",
       "      <th>3</th>\n",
       "      <td>x</td>\n",
       "      <td>x</td>\n",
       "      <td>x</td>\n",
       "      <td>x</td>\n",
       "      <td>o</td>\n",
       "      <td>o</td>\n",
       "      <td>o</td>\n",
       "      <td>b</td>\n",
       "      <td>b</td>\n",
       "      <td>positive</td>\n",
       "    </tr>\n",
       "    <tr>\n",
       "      <th>4</th>\n",
       "      <td>x</td>\n",
       "      <td>x</td>\n",
       "      <td>x</td>\n",
       "      <td>x</td>\n",
       "      <td>o</td>\n",
       "      <td>o</td>\n",
       "      <td>b</td>\n",
       "      <td>o</td>\n",
       "      <td>b</td>\n",
       "      <td>positive</td>\n",
       "    </tr>\n",
       "  </tbody>\n",
       "</table>\n",
       "</div>"
      ],
      "text/plain": [
       "  Top-Left Top-Middle Top-Right Middle-Left Middle-Middle Middle-Right  \\\n",
       "0        x          x         x           x             o            o   \n",
       "1        x          x         x           x             o            o   \n",
       "2        x          x         x           x             o            o   \n",
       "3        x          x         x           x             o            o   \n",
       "4        x          x         x           x             o            o   \n",
       "\n",
       "  Bottom-Left Bottom-Middle Bottom-Right     Class  \n",
       "0           x             o            o  positive  \n",
       "1           o             x            o  positive  \n",
       "2           o             o            x  positive  \n",
       "3           o             b            b  positive  \n",
       "4           b             o            b  positive  "
      ]
     },
     "execution_count": 15,
     "metadata": {},
     "output_type": "execute_result"
    }
   ],
   "source": [
    "# Exploring the first 5 rows:\n",
    "tic_tac_toe.head()"
   ]
  },
  {
   "cell_type": "code",
   "execution_count": 16,
   "id": "89e64a64-3672-4716-8b78-25bf415aa649",
   "metadata": {},
   "outputs": [],
   "source": [
    "# Encoding the target column into (0 / 1):\n",
    "tic_tac_toe['Class'] = tic_tac_toe['Class'].apply(lambda x : 1 if x == 'positive' else 0)"
   ]
  },
  {
   "cell_type": "code",
   "execution_count": 17,
   "id": "990804d5-1804-440e-824a-e06c32745c8c",
   "metadata": {},
   "outputs": [],
   "source": [
    "# Encoding the feaatures into (0 / 1):\n",
    "features = [col for col in tic_tac_toe.columns if col != 'Class']\n",
    "tic_tac_toe = pd.get_dummies(data=tic_tac_toe, columns=features)"
   ]
  },
  {
   "cell_type": "code",
   "execution_count": 18,
   "id": "d2aa7185-3487-43a6-b11e-feea629d7579",
   "metadata": {},
   "outputs": [],
   "source": [
    "# defining a function to split the data into X & y:\n",
    "def split_data(data, y_col):\n",
    "    \n",
    "    features = [col for col in data.columns if col != y_col]\n",
    "    \n",
    "    X = data[features].copy()\n",
    "    y = data[y_col].copy()\n",
    "    \n",
    "    return X, y"
   ]
  },
  {
   "cell_type": "code",
   "execution_count": 19,
   "id": "00d87ae1-114f-4756-9167-c9d8ad2e7c75",
   "metadata": {},
   "outputs": [],
   "source": [
    "# Slpitting the data into features matrix (X) & target column (y):\n",
    "X, y = split_data(tic_tac_toe, 'Class')"
   ]
  },
  {
   "cell_type": "code",
   "execution_count": 20,
   "id": "305ca3fc-3a5c-436e-9719-cc11ff7d7f60",
   "metadata": {},
   "outputs": [],
   "source": [
    "# Splitting the data into training & hold-out sets:\n",
    "X_train, X_test, y_train, y_test  = train_test_split(X, y, test_size=0.2, stratify=y, random_state=1111)"
   ]
  },
  {
   "cell_type": "code",
   "execution_count": 21,
   "id": "4db80af8-7f5d-4b81-b633-b22ea5dd3582",
   "metadata": {},
   "outputs": [],
   "source": [
    "# Initializing the model:\n",
    "rfc = RandomForestClassifier(random_state=1111)"
   ]
  },
  {
   "cell_type": "markdown",
   "id": "b651bf22-5793-455b-93d0-b08806d95f7c",
   "metadata": {},
   "source": [
    "- Create a precision scorer, `precision` using `make_scorer(<scoring_function>)`."
   ]
  },
  {
   "cell_type": "code",
   "execution_count": 22,
   "id": "d82df37e-06bb-465f-afd6-33d1553ecbf1",
   "metadata": {},
   "outputs": [],
   "source": [
    "# Creating a scoring strategy:\n",
    "precision = make_scorer(precision_score)"
   ]
  },
  {
   "cell_type": "markdown",
   "id": "d226c958-dd27-4221-8c11-ce2de314deee",
   "metadata": {},
   "source": [
    "- Complete the random search method by using `rfc` and param_dist."
   ]
  },
  {
   "cell_type": "code",
   "execution_count": 23,
   "id": "736eafaf-7a67-4f7d-957b-03651181199a",
   "metadata": {},
   "outputs": [],
   "source": [
    "# Initializing the RandomizedSearchCV object:\n",
    "rs = RandomizedSearchCV(estimator=rfc,\n",
    "                        param_distributions=param_dist,\n",
    "                        scoring=precision,\n",
    "                        cv=5, random_state=1111)"
   ]
  },
  {
   "cell_type": "code",
   "execution_count": 24,
   "id": "4ac353af-3ef3-410a-affa-e724d9657e88",
   "metadata": {},
   "outputs": [
    {
     "data": {
      "text/plain": [
       "RandomizedSearchCV(cv=5, estimator=RandomForestClassifier(random_state=1111),\n",
       "                   param_distributions={'max_depth': [2, 4, 6, 8],\n",
       "                                        'max_features': [2, 4, 6, 8, 10],\n",
       "                                        'min_samples_split': [2, 4, 8, 16]},\n",
       "                   random_state=1111, scoring=make_scorer(precision_score))"
      ]
     },
     "execution_count": 24,
     "metadata": {},
     "output_type": "execute_result"
    }
   ],
   "source": [
    "# Fitting the RandomizedSearchCV object:\n",
    "rs.fit(X_train, y_train)"
   ]
  },
  {
   "cell_type": "markdown",
   "id": "d7d851cf-ddd7-43a7-b41c-1b22644ca94b",
   "metadata": {},
   "source": [
    "- Use `rs.cv_results_` to print the mean test scores."
   ]
  },
  {
   "cell_type": "code",
   "execution_count": 25,
   "id": "a0c1cf8f-2cdb-4a3f-be82-d2a533fbc504",
   "metadata": {},
   "outputs": [
    {
     "name": "stdout",
     "output_type": "stream",
     "text": [
      "The score for each run was: [0.85, 0.78, 0.72, 0.93, 0.77, 0.9, 0.78, 0.9, 0.72, 0.97].\n"
     ]
    }
   ],
   "source": [
    "# Printing the mean test scores:\n",
    "print(f\"The score for each run was: {[round(s, 2) for s in rs.cv_results_['mean_test_score']]}.\")"
   ]
  },
  {
   "cell_type": "markdown",
   "id": "5e3299df-823a-45bf-a6b0-3a58181febc5",
   "metadata": {},
   "source": [
    "- Print the best overall score."
   ]
  },
  {
   "cell_type": "code",
   "execution_count": 26,
   "id": "7674912c-25b3-4347-98b6-af748c777ce7",
   "metadata": {},
   "outputs": [
    {
     "name": "stdout",
     "output_type": "stream",
     "text": [
      "The best score for a single model was: 0.97\n"
     ]
    }
   ],
   "source": [
    "# Printing the best model score:\n",
    "print(f\"The best score for a single model was: {rs.best_score_:.2f}\")"
   ]
  },
  {
   "cell_type": "markdown",
   "id": "fffd5805-6ea8-4966-8d98-2816e6f7505e",
   "metadata": {},
   "source": [
    "- Print the best parameters."
   ]
  },
  {
   "cell_type": "code",
   "execution_count": 27,
   "id": "3c5786b1-a243-400c-bccf-5921eb129ce8",
   "metadata": {},
   "outputs": [
    {
     "name": "stdout",
     "output_type": "stream",
     "text": [
      "The best parameters were: {'min_samples_split': 2, 'max_features': 8, 'max_depth': 8}\n"
     ]
    }
   ],
   "source": [
    "# Printing the best parameters:\n",
    "print(f\"The best parameters were: {rs.best_params_}\")"
   ]
  },
  {
   "cell_type": "markdown",
   "id": "8e9a10b9-26fe-480a-9683-6a16dbc75ade",
   "metadata": {},
   "source": [
    "- Evaluate the best model performance on the hold-out data."
   ]
  },
  {
   "cell_type": "code",
   "execution_count": 28,
   "id": "6398d6a6-62cc-4eb0-bb38-1c224841c44b",
   "metadata": {},
   "outputs": [],
   "source": [
    "# Making predictions necessary for evaluating model performance:\n",
    "y_pred = rs.best_estimator_.predict(X_test)"
   ]
  },
  {
   "cell_type": "code",
   "execution_count": 29,
   "id": "bd158ba9-fdcf-4c6c-b8c1-f7cc99d3f172",
   "metadata": {},
   "outputs": [
    {
     "name": "stdout",
     "output_type": "stream",
     "text": [
      "The precision score for the best model on hold-out set was: 0.98\n"
     ]
    }
   ],
   "source": [
    "# Evaluating the model performance on the hold-out set:\n",
    "best_model_precision = round(precision_score(y_test, y_pred), 2)\n",
    "print(f\"The precision score for the best model on hold-out set was: {best_model_precision}\")"
   ]
  },
  {
   "cell_type": "markdown",
   "id": "82909a0d-9cd0-4411-8bf7-cf614512da33",
   "metadata": {},
   "source": [
    "- Explore the scores for different values of the model parameters:"
   ]
  },
  {
   "cell_type": "code",
   "execution_count": 30,
   "id": "e715dfef-764d-454e-915f-4290250c5af7",
   "metadata": {},
   "outputs": [],
   "source": [
    "# Making an array for each parameter values:\n",
    "min_samples_split_array = [p['min_samples_split'] for p in rs.cv_results_['params']]\n",
    "max_features_array = [p['max_features'] for p in rs.cv_results_['params']]\n",
    "max_depth_array = [p['max_depth'] for p in rs.cv_results_['params']]"
   ]
  },
  {
   "cell_type": "code",
   "execution_count": 31,
   "id": "d29c4250-7497-406d-a15f-b9582e1bca08",
   "metadata": {},
   "outputs": [],
   "source": [
    "# Making an array of scores:\n",
    "mean_scores = [round(s, 2) for s in rs.cv_results_['mean_test_score']]"
   ]
  },
  {
   "cell_type": "code",
   "execution_count": 32,
   "id": "166491f2-6b0c-454b-8cd7-c13143ab9a62",
   "metadata": {},
   "outputs": [
    {
     "data": {
      "text/html": [
       "<div>\n",
       "<style scoped>\n",
       "    .dataframe tbody tr th:only-of-type {\n",
       "        vertical-align: middle;\n",
       "    }\n",
       "\n",
       "    .dataframe tbody tr th {\n",
       "        vertical-align: top;\n",
       "    }\n",
       "\n",
       "    .dataframe thead th {\n",
       "        text-align: right;\n",
       "    }\n",
       "</style>\n",
       "<table border=\"1\" class=\"dataframe\">\n",
       "  <thead>\n",
       "    <tr style=\"text-align: right;\">\n",
       "      <th></th>\n",
       "      <th>min_samples_split</th>\n",
       "      <th>max_features</th>\n",
       "      <th>max_depth</th>\n",
       "      <th>scores</th>\n",
       "    </tr>\n",
       "  </thead>\n",
       "  <tbody>\n",
       "    <tr>\n",
       "      <th>0</th>\n",
       "      <td>8</td>\n",
       "      <td>6</td>\n",
       "      <td>6</td>\n",
       "      <td>0.85</td>\n",
       "    </tr>\n",
       "    <tr>\n",
       "      <th>1</th>\n",
       "      <td>16</td>\n",
       "      <td>10</td>\n",
       "      <td>4</td>\n",
       "      <td>0.78</td>\n",
       "    </tr>\n",
       "    <tr>\n",
       "      <th>2</th>\n",
       "      <td>16</td>\n",
       "      <td>10</td>\n",
       "      <td>2</td>\n",
       "      <td>0.72</td>\n",
       "    </tr>\n",
       "    <tr>\n",
       "      <th>3</th>\n",
       "      <td>8</td>\n",
       "      <td>10</td>\n",
       "      <td>6</td>\n",
       "      <td>0.93</td>\n",
       "    </tr>\n",
       "    <tr>\n",
       "      <th>4</th>\n",
       "      <td>4</td>\n",
       "      <td>8</td>\n",
       "      <td>4</td>\n",
       "      <td>0.77</td>\n",
       "    </tr>\n",
       "  </tbody>\n",
       "</table>\n",
       "</div>"
      ],
      "text/plain": [
       "   min_samples_split  max_features  max_depth  scores\n",
       "0                  8             6          6    0.85\n",
       "1                 16            10          4    0.78\n",
       "2                 16            10          2    0.72\n",
       "3                  8            10          6    0.93\n",
       "4                  4             8          4    0.77"
      ]
     },
     "execution_count": 32,
     "metadata": {},
     "output_type": "execute_result"
    }
   ],
   "source": [
    "# Organizing the model runs into a dataframe:\n",
    "scores_df = pd.DataFrame({'min_samples_split': min_samples_split_array,\n",
    "                          'max_features': max_features_array,\n",
    "                          'max_depth': max_depth_array,\n",
    "                          'scores': mean_scores})\n",
    "scores_df.head()"
   ]
  },
  {
   "cell_type": "code",
   "execution_count": 33,
   "id": "cbe8c725-8935-4983-ac88-f233f3b9ed3c",
   "metadata": {},
   "outputs": [
    {
     "data": {
      "image/png": "[encoded data removed]",
      "text/plain": [
       "<Figure size 432x288 with 1 Axes>"
      ]
     },
     "metadata": {
      "needs_background": "light"
     },
     "output_type": "display_data"
    }
   ],
   "source": [
    "# Making inference about max_depth:\n",
    "scores_df.groupby(by='max_depth')['scores'].mean().plot.bar();"
   ]
  }
 ],
 "metadata": {
  "kernelspec": {
   "display_name": "Python 3 (ipykernel)",
   "language": "python",
   "name": "python3"
  },
  "language_info": {
   "codemirror_mode": {
    "name": "ipython",
    "version": 3
   },
   "file_extension": ".py",
   "mimetype": "text/x-python",
   "name": "python",
   "nbconvert_exporter": "python",
   "pygments_lexer": "ipython3",
   "version": "3.9.7"
  }
 },
 "nbformat": 4,
 "nbformat_minor": 5
}
