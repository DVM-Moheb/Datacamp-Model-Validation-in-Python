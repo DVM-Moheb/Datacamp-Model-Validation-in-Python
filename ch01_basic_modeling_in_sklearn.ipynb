{
 "cells": [
  {
   "cell_type": "code",
   "execution_count": 1,
   "id": "3bf8cb47-485a-4556-aa3b-d9d6e2e55915",
   "metadata": {},
   "outputs": [],
   "source": [
    "import numpy as np\n",
    "import matplotlib.pyplot as plt\n",
    "%matplotlib inline\n",
    "import seaborn as sns\n",
    "sns.set()\n",
    "import pandas as pd\n",
    "from sklearn.ensemble import RandomForestClassifier\n",
    "from sklearn.ensemble import RandomForestRegressor\n",
    "from sklearn.model_selection import train_test_split\n",
    "from sklearn.metrics import mean_absolute_error as mae"
   ]
  },
  {
   "cell_type": "markdown",
   "id": "d8b89f2c-4764-426f-ba96-80a9e0ffbf03",
   "metadata": {},
   "source": [
    "## 1. Introduction to model validation"
   ]
  },
  {
   "cell_type": "markdown",
   "id": "67ac4577-7c63-4d7f-af77-09873bd0a9a7",
   "metadata": {},
   "source": [
    "### 1.1. Modeling steps"
   ]
  },
  {
   "cell_type": "markdown",
   "id": "b248c139-fdb2-4a96-8f15-045882120b7b",
   "metadata": {},
   "source": [
    "The process of using scikit-learn to create and test models has four steps, and you will use these four steps throughout this course.\n",
    "\n",
    "Which of the following is NOT a valid method in the four-step scikit-learn model validation framework?"
   ]
  },
  {
   "cell_type": "markdown",
   "id": "f9087cf0-7677-40e9-a329-fb3df4acd6f0",
   "metadata": {},
   "source": [
    "> .validate()"
   ]
  },
  {
   "cell_type": "markdown",
   "id": "25b3db45-79e9-4949-8619-ea92b771f554",
   "metadata": {},
   "source": [
    "### 1.2. Seen vs. unseen data"
   ]
  },
  {
   "cell_type": "markdown",
   "id": "5ba5f5f3-0b35-40e3-ab93-e32bf8f77266",
   "metadata": {},
   "source": [
    "Model's tend to have higher accuracy on observations they have seen before. In the candy dataset, predicting the popularity of Skittles will likely have higher accuracy than predicting the popularity of Andes Mints; Skittles is in the dataset, and Andes Mints is not.\n",
    "\n",
    "You've built a model based on 50 candies using the dataset X_train and need to report how accurate the model is at predicting the popularity of the 50 candies the model was built on, and the 35 candies (X_test) it has never seen. You will use the mean absolute error, mae(), as the accuracy metric."
   ]
  },
  {
   "cell_type": "markdown",
   "id": "a7a8c210-cd66-433c-8333-7d9ea6933ca2",
   "metadata": {},
   "source": [
    "- Using X_train and X_test as input data, create arrays of predictions using model.predict()."
   ]
  },
  {
   "cell_type": "code",
   "execution_count": 2,
   "id": "2e134c27-9aac-4d38-a609-822b83f50f9c",
   "metadata": {},
   "outputs": [],
   "source": [
    "candy = pd.read_csv(\"./data/candy-data.csv\")"
   ]
  },
  {
   "cell_type": "code",
   "execution_count": 3,
   "id": "748fc182-4012-4849-8137-6204287d11b6",
   "metadata": {},
   "outputs": [
    {
     "data": {
      "text/plain": [
       "(85, 13)"
      ]
     },
     "execution_count": 3,
     "metadata": {},
     "output_type": "execute_result"
    }
   ],
   "source": [
    "candy.shape"
   ]
  },
  {
   "cell_type": "code",
   "execution_count": 4,
   "id": "0e463e30-0e91-4627-b283-e630a1bf561a",
   "metadata": {},
   "outputs": [
    {
     "data": {
      "text/html": [
       "<div>\n",
       "<style scoped>\n",
       "    .dataframe tbody tr th:only-of-type {\n",
       "        vertical-align: middle;\n",
       "    }\n",
       "\n",
       "    .dataframe tbody tr th {\n",
       "        vertical-align: top;\n",
       "    }\n",
       "\n",
       "    .dataframe thead th {\n",
       "        text-align: right;\n",
       "    }\n",
       "</style>\n",
       "<table border=\"1\" class=\"dataframe\">\n",
       "  <thead>\n",
       "    <tr style=\"text-align: right;\">\n",
       "      <th></th>\n",
       "      <th>competitorname</th>\n",
       "      <th>chocolate</th>\n",
       "      <th>fruity</th>\n",
       "      <th>caramel</th>\n",
       "      <th>peanutyalmondy</th>\n",
       "      <th>nougat</th>\n",
       "      <th>crispedricewafer</th>\n",
       "      <th>hard</th>\n",
       "      <th>bar</th>\n",
       "      <th>pluribus</th>\n",
       "      <th>sugarpercent</th>\n",
       "      <th>pricepercent</th>\n",
       "      <th>winpercent</th>\n",
       "    </tr>\n",
       "  </thead>\n",
       "  <tbody>\n",
       "    <tr>\n",
       "      <th>0</th>\n",
       "      <td>100 Grand</td>\n",
       "      <td>1</td>\n",
       "      <td>0</td>\n",
       "      <td>1</td>\n",
       "      <td>0</td>\n",
       "      <td>0</td>\n",
       "      <td>1</td>\n",
       "      <td>0</td>\n",
       "      <td>1</td>\n",
       "      <td>0</td>\n",
       "      <td>0.732</td>\n",
       "      <td>0.860</td>\n",
       "      <td>66.971725</td>\n",
       "    </tr>\n",
       "    <tr>\n",
       "      <th>1</th>\n",
       "      <td>3 Musketeers</td>\n",
       "      <td>1</td>\n",
       "      <td>0</td>\n",
       "      <td>0</td>\n",
       "      <td>0</td>\n",
       "      <td>1</td>\n",
       "      <td>0</td>\n",
       "      <td>0</td>\n",
       "      <td>1</td>\n",
       "      <td>0</td>\n",
       "      <td>0.604</td>\n",
       "      <td>0.511</td>\n",
       "      <td>67.602936</td>\n",
       "    </tr>\n",
       "    <tr>\n",
       "      <th>2</th>\n",
       "      <td>One dime</td>\n",
       "      <td>0</td>\n",
       "      <td>0</td>\n",
       "      <td>0</td>\n",
       "      <td>0</td>\n",
       "      <td>0</td>\n",
       "      <td>0</td>\n",
       "      <td>0</td>\n",
       "      <td>0</td>\n",
       "      <td>0</td>\n",
       "      <td>0.011</td>\n",
       "      <td>0.116</td>\n",
       "      <td>32.261086</td>\n",
       "    </tr>\n",
       "    <tr>\n",
       "      <th>3</th>\n",
       "      <td>One quarter</td>\n",
       "      <td>0</td>\n",
       "      <td>0</td>\n",
       "      <td>0</td>\n",
       "      <td>0</td>\n",
       "      <td>0</td>\n",
       "      <td>0</td>\n",
       "      <td>0</td>\n",
       "      <td>0</td>\n",
       "      <td>0</td>\n",
       "      <td>0.011</td>\n",
       "      <td>0.511</td>\n",
       "      <td>46.116505</td>\n",
       "    </tr>\n",
       "    <tr>\n",
       "      <th>4</th>\n",
       "      <td>Air Heads</td>\n",
       "      <td>0</td>\n",
       "      <td>1</td>\n",
       "      <td>0</td>\n",
       "      <td>0</td>\n",
       "      <td>0</td>\n",
       "      <td>0</td>\n",
       "      <td>0</td>\n",
       "      <td>0</td>\n",
       "      <td>0</td>\n",
       "      <td>0.906</td>\n",
       "      <td>0.511</td>\n",
       "      <td>52.341465</td>\n",
       "    </tr>\n",
       "  </tbody>\n",
       "</table>\n",
       "</div>"
      ],
      "text/plain": [
       "  competitorname  chocolate  fruity  caramel  peanutyalmondy  nougat  \\\n",
       "0      100 Grand          1       0        1               0       0   \n",
       "1   3 Musketeers          1       0        0               0       1   \n",
       "2       One dime          0       0        0               0       0   \n",
       "3    One quarter          0       0        0               0       0   \n",
       "4      Air Heads          0       1        0               0       0   \n",
       "\n",
       "   crispedricewafer  hard  bar  pluribus  sugarpercent  pricepercent  \\\n",
       "0                 1     0    1         0         0.732         0.860   \n",
       "1                 0     0    1         0         0.604         0.511   \n",
       "2                 0     0    0         0         0.011         0.116   \n",
       "3                 0     0    0         0         0.011         0.511   \n",
       "4                 0     0    0         0         0.906         0.511   \n",
       "\n",
       "   winpercent  \n",
       "0   66.971725  \n",
       "1   67.602936  \n",
       "2   32.261086  \n",
       "3   46.116505  \n",
       "4   52.341465  "
      ]
     },
     "execution_count": 4,
     "metadata": {},
     "output_type": "execute_result"
    }
   ],
   "source": [
    "candy.head()"
   ]
  },
  {
   "cell_type": "code",
   "execution_count": 5,
   "id": "d1fd833f-5f8c-49e4-82d2-a3c82e2f062c",
   "metadata": {},
   "outputs": [],
   "source": [
    "# Dropping the first column:\n",
    "final_data = candy.drop(columns='competitorname')"
   ]
  },
  {
   "cell_type": "code",
   "execution_count": 6,
   "id": "a4bd4188-9310-41b4-bb0f-232dbda55c0d",
   "metadata": {},
   "outputs": [],
   "source": [
    "# defining a funvtion to split the data into X & y:\n",
    "def split_data(data, y_col):\n",
    "    \n",
    "    features = [col for col in data.columns if col != y_col]\n",
    "    \n",
    "    X = data[features].copy()\n",
    "    y = data[y_col].copy()\n",
    "    \n",
    "    return X, y"
   ]
  },
  {
   "cell_type": "code",
   "execution_count": 7,
   "id": "352dadc9-7644-477b-8266-f358c04cc2ac",
   "metadata": {},
   "outputs": [],
   "source": [
    "# Splitting the data into X & y:\n",
    "X, y = split_data(final_data, 'winpercent')"
   ]
  },
  {
   "cell_type": "code",
   "execution_count": 8,
   "id": "990a46ba-4913-4952-a90d-40392f9b0749",
   "metadata": {},
   "outputs": [],
   "source": [
    "# Splitting the data into train & test sets:\n",
    "X_train, X_test, y_train, y_test = train_test_split(X, y, train_size=50, random_state=42)"
   ]
  },
  {
   "cell_type": "code",
   "execution_count": 9,
   "id": "b784f656-b0b8-4315-925a-27bc3ee9cfa6",
   "metadata": {},
   "outputs": [
    {
     "data": {
      "text/plain": [
       "RandomForestRegressor()"
      ]
     },
     "execution_count": 9,
     "metadata": {},
     "output_type": "execute_result"
    }
   ],
   "source": [
    "# Initializing & fitting the model\n",
    "model = RandomForestRegressor()\n",
    "model.fit(X_train, y_train)"
   ]
  },
  {
   "cell_type": "code",
   "execution_count": 10,
   "id": "d75cd024-5f43-4587-b443-149454ba4b9a",
   "metadata": {},
   "outputs": [],
   "source": [
    "# Creating predictions necessary for model evaluation:\n",
    "train_predictions = model.predict(X_train)\n",
    "test_predictions = model.predict(X_test)"
   ]
  },
  {
   "cell_type": "markdown",
   "id": "ffe8f794-d359-4c96-8f21-b4f291276861",
   "metadata": {},
   "source": [
    "- Calculate model accuracy on both data the model has seen and data the model has not seen before."
   ]
  },
  {
   "cell_type": "code",
   "execution_count": 11,
   "id": "b4a1d2f1-3d84-484e-83af-408750fc54f8",
   "metadata": {},
   "outputs": [],
   "source": [
    "# Evaluating model:\n",
    "train_errors = mae(y_train, train_predictions)\n",
    "test_errors = mae(y_test, test_predictions)"
   ]
  },
  {
   "cell_type": "markdown",
   "id": "5fcae137-4939-47dc-92d2-f242349acfe4",
   "metadata": {},
   "source": [
    "- Use the print statements to print the seen and unseen data."
   ]
  },
  {
   "cell_type": "code",
   "execution_count": 12,
   "id": "8bc541ae-03d3-4195-8daa-e64fdfc33520",
   "metadata": {},
   "outputs": [
    {
     "name": "stdout",
     "output_type": "stream",
     "text": [
      "Model error on seen data: 3.15.\n",
      "Model error on unseen data: 10.57.\n"
     ]
    }
   ],
   "source": [
    "# Printing the errors:\n",
    "print(f\"Model error on seen data: {train_errors:.2f}.\")\n",
    "print(f\"Model error on unseen data: {test_errors:.2f}.\")"
   ]
  },
  {
   "cell_type": "markdown",
   "id": "83538d56-5d13-4670-9ce0-92c6ca181a0b",
   "metadata": {},
   "source": [
    "## 2. regression models"
   ]
  },
  {
   "cell_type": "markdown",
   "id": "f44869d2-fe94-43b1-9329-1ca5a7077f30",
   "metadata": {},
   "source": [
    "### 2.1. Set parameters and fit a model"
   ]
  },
  {
   "cell_type": "markdown",
   "id": "69e294f4-c105-4da5-8b9f-1f95f6b28af6",
   "metadata": {},
   "source": [
    "Predictive tasks fall into one of two categories: regression or classification. In the candy dataset, the outcome is a continuous variable describing how often the candy was chosen over another candy in a series of 1-on-1 match-ups. To predict this value (the win-percentage), you will use a regression model.\n",
    "\n",
    "In this exercise, you will specify a few parameters using a random forest regression model rfr."
   ]
  },
  {
   "cell_type": "markdown",
   "id": "b8e5cc20-160c-4689-a1f5-84fcea374b42",
   "metadata": {},
   "source": [
    "- Add a parameter to rfr so that the number of trees built is 100 and the maximum depth of these trees is 6."
   ]
  },
  {
   "cell_type": "code",
   "execution_count": 13,
   "id": "ce6ed30c-10b5-44fc-b0f2-72d1765bdc06",
   "metadata": {},
   "outputs": [],
   "source": [
    "# Initializing the model with no hyperparameters:\n",
    "rfr = RandomForestRegressor()"
   ]
  },
  {
   "cell_type": "code",
   "execution_count": 14,
   "id": "244d747e-04bd-4221-97ef-c396b17a299d",
   "metadata": {},
   "outputs": [],
   "source": [
    "# Setting n_estimators & max_depth:\n",
    "rfr.n_estimators = 100\n",
    "rfr.max_depth = 6"
   ]
  },
  {
   "cell_type": "markdown",
   "id": "00cbc1eb-a9df-4113-81be-546b3e8a7afa",
   "metadata": {},
   "source": [
    "- Make sure the model is reproducible by adding a random state of 1111."
   ]
  },
  {
   "cell_type": "code",
   "execution_count": 15,
   "id": "b8ad4544-c669-4a2f-9b15-ca4a6f39f4f9",
   "metadata": {},
   "outputs": [],
   "source": [
    "# Setting random_state:\n",
    "rfr.random_state = 1111"
   ]
  },
  {
   "cell_type": "markdown",
   "id": "0e568522-1df4-482b-9ed9-139f01e921fe",
   "metadata": {},
   "source": [
    "- Use the .fit() method to train the random forest regression model with X_train as the input data and y_train as the response."
   ]
  },
  {
   "cell_type": "code",
   "execution_count": 16,
   "id": "d84d4e63-6976-4f14-a088-f4a3a06281e8",
   "metadata": {},
   "outputs": [
    {
     "data": {
      "text/plain": [
       "RandomForestRegressor(max_depth=6, random_state=1111)"
      ]
     },
     "execution_count": 16,
     "metadata": {},
     "output_type": "execute_result"
    }
   ],
   "source": [
    "# Fitting the model:\n",
    "rfr.fit(X_train, y_train)"
   ]
  },
  {
   "cell_type": "markdown",
   "id": "8e8c6939-8571-4394-8703-fae633aec5fd",
   "metadata": {},
   "source": [
    "### 2.2. Feature importances"
   ]
  },
  {
   "cell_type": "markdown",
   "id": "18aca4a5-12b8-4fdc-b58d-27e50f173967",
   "metadata": {},
   "source": [
    "Although some candy attributes, such as chocolate, may be extremely popular, it doesn't mean they will be important to model prediction. After a random forest model has been fit, you can review the model's attribute, .feature_importances_, to see which variables had the biggest impact. You can check how important each variable was in the model by looping over the feature importance array using enumerate().\n",
    "\n",
    "If you are unfamiliar with Python's enumerate() function, it can loop over a list while also creating an automatic counter."
   ]
  },
  {
   "cell_type": "markdown",
   "id": "5ca3df60-b376-431c-99e9-27de25df5a58",
   "metadata": {},
   "source": [
    "- Loop through the feature importance output of rfr.\n",
    "- Print the column names of X_train and the importance score for that column."
   ]
  },
  {
   "cell_type": "code",
   "execution_count": 17,
   "id": "fc012991-b9c4-49d8-a097-9829410d798e",
   "metadata": {},
   "outputs": [],
   "source": [
    "# Extracting feature importances:\n",
    "imps = rfr.feature_importances_"
   ]
  },
  {
   "cell_type": "code",
   "execution_count": 18,
   "id": "aa4700f3-f95c-4952-9e56-b8cf536805b3",
   "metadata": {},
   "outputs": [
    {
     "name": "stdout",
     "output_type": "stream",
     "text": [
      "1. chocolate: 0.34\n",
      "2. fruity: 0.04\n",
      "3. caramel: 0.01\n",
      "4. peanutyalmondy: 0.08\n",
      "5. nougat: 0.01\n",
      "6. crispedricewafer: 0.01\n",
      "7. hard: 0.02\n",
      "8. bar: 0.09\n",
      "9. pluribus: 0.02\n",
      "10. sugarpercent: 0.17\n",
      "11. pricepercent: 0.20\n"
     ]
    }
   ],
   "source": [
    "# Iterating over features & feature importances:\n",
    "for i, imp in enumerate(imps):\n",
    "    print(f\"{i+1}. {X.columns[i]}: {imp:.2f}\")"
   ]
  },
  {
   "cell_type": "code",
   "execution_count": null,
   "id": "f307fddb-f5ee-44a2-8e28-8327b1ce0c2d",
   "metadata": {},
   "outputs": [],
   "source": []
  }
 ],
 "metadata": {
  "kernelspec": {
   "display_name": "Python 3 (ipykernel)",
   "language": "python",
   "name": "python3"
  },
  "language_info": {
   "codemirror_mode": {
    "name": "ipython",
    "version": 3
   },
   "file_extension": ".py",
   "mimetype": "text/x-python",
   "name": "python",
   "nbconvert_exporter": "python",
   "pygments_lexer": "ipython3",
   "version": "3.9.7"
  }
 },
 "nbformat": 4,
 "nbformat_minor": 5
}
