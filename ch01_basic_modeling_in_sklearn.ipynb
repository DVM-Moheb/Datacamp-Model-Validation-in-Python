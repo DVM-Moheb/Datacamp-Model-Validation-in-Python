{
 "cells": [
  {
   "cell_type": "code",
   "execution_count": 1,
   "id": "3bf8cb47-485a-4556-aa3b-d9d6e2e55915",
   "metadata": {},
   "outputs": [],
   "source": [
    "import numpy as np\n",
    "import pandas as pd\n",
    "from sklearn.ensemble import RandomForestClassifier\n",
    "from sklearn.ensemble import RandomForestRegressor\n",
    "from sklearn.model_selection import train_test_split\n",
    "from sklearn.metrics import mean_absolute_error as mae"
   ]
  },
  {
   "cell_type": "markdown",
   "id": "d8b89f2c-4764-426f-ba96-80a9e0ffbf03",
   "metadata": {},
   "source": [
    "## 1. Introduction to model validation"
   ]
  },
  {
   "cell_type": "markdown",
   "id": "67ac4577-7c63-4d7f-af77-09873bd0a9a7",
   "metadata": {},
   "source": [
    "### 1.1. Modeling steps"
   ]
  },
  {
   "cell_type": "markdown",
   "id": "b248c139-fdb2-4a96-8f15-045882120b7b",
   "metadata": {},
   "source": [
    "The process of using scikit-learn to create and test models has four steps, and you will use these four steps throughout this course.\n",
    "\n",
    "Which of the following is NOT a valid method in the four-step scikit-learn model validation framework?"
   ]
  },
  {
   "cell_type": "markdown",
   "id": "f9087cf0-7677-40e9-a329-fb3df4acd6f0",
   "metadata": {},
   "source": [
    "> `.validate()`"
   ]
  },
  {
   "cell_type": "markdown",
   "id": "25b3db45-79e9-4949-8619-ea92b771f554",
   "metadata": {},
   "source": [
    "### 1.2. Seen vs. unseen data"
   ]
  },
  {
   "cell_type": "markdown",
   "id": "5ba5f5f3-0b35-40e3-ab93-e32bf8f77266",
   "metadata": {},
   "source": [
    "Model's tend to have higher accuracy on observations they have seen before. In the candy dataset, predicting the popularity of Skittles will likely have higher accuracy than predicting the popularity of Andes Mints; Skittles is in the dataset, and Andes Mints is not.\n",
    "\n",
    "You've built a model based on 50 candies using the dataset `X_train` and need to report how accurate the model is at predicting the popularity of the 50 candies the model was built on, and the 35 candies (`X_test`) it has never seen. You will use the mean absolute error, `mae()`, as the accuracy metric."
   ]
  },
  {
   "cell_type": "markdown",
   "id": "a7a8c210-cd66-433c-8333-7d9ea6933ca2",
   "metadata": {},
   "source": [
    "- Using `X_train` and `X_test` as input data, create arrays of predictions using `model.predict()`."
   ]
  },
  {
   "cell_type": "code",
   "execution_count": 2,
   "id": "2e134c27-9aac-4d38-a609-822b83f50f9c",
   "metadata": {},
   "outputs": [],
   "source": [
    "# Reading the data:\n",
    "candy = pd.read_csv(\"./data/candy-data.csv\")"
   ]
  },
  {
   "cell_type": "code",
   "execution_count": 3,
   "id": "748fc182-4012-4849-8137-6204287d11b6",
   "metadata": {},
   "outputs": [
    {
     "data": {
      "text/plain": [
       "(85, 13)"
      ]
     },
     "execution_count": 3,
     "metadata": {},
     "output_type": "execute_result"
    }
   ],
   "source": [
    "# Exploring the data shape:\n",
    "candy.shape"
   ]
  },
  {
   "cell_type": "code",
   "execution_count": 4,
   "id": "0e463e30-0e91-4627-b283-e630a1bf561a",
   "metadata": {},
   "outputs": [
    {
     "data": {
      "text/html": [
       "<div>\n",
       "<style scoped>\n",
       "    .dataframe tbody tr th:only-of-type {\n",
       "        vertical-align: middle;\n",
       "    }\n",
       "\n",
       "    .dataframe tbody tr th {\n",
       "        vertical-align: top;\n",
       "    }\n",
       "\n",
       "    .dataframe thead th {\n",
       "        text-align: right;\n",
       "    }\n",
       "</style>\n",
       "<table border=\"1\" class=\"dataframe\">\n",
       "  <thead>\n",
       "    <tr style=\"text-align: right;\">\n",
       "      <th></th>\n",
       "      <th>competitorname</th>\n",
       "      <th>chocolate</th>\n",
       "      <th>fruity</th>\n",
       "      <th>caramel</th>\n",
       "      <th>peanutyalmondy</th>\n",
       "      <th>nougat</th>\n",
       "      <th>crispedricewafer</th>\n",
       "      <th>hard</th>\n",
       "      <th>bar</th>\n",
       "      <th>pluribus</th>\n",
       "      <th>sugarpercent</th>\n",
       "      <th>pricepercent</th>\n",
       "      <th>winpercent</th>\n",
       "    </tr>\n",
       "  </thead>\n",
       "  <tbody>\n",
       "    <tr>\n",
       "      <th>0</th>\n",
       "      <td>100 Grand</td>\n",
       "      <td>1</td>\n",
       "      <td>0</td>\n",
       "      <td>1</td>\n",
       "      <td>0</td>\n",
       "      <td>0</td>\n",
       "      <td>1</td>\n",
       "      <td>0</td>\n",
       "      <td>1</td>\n",
       "      <td>0</td>\n",
       "      <td>0.732</td>\n",
       "      <td>0.860</td>\n",
       "      <td>66.971725</td>\n",
       "    </tr>\n",
       "    <tr>\n",
       "      <th>1</th>\n",
       "      <td>3 Musketeers</td>\n",
       "      <td>1</td>\n",
       "      <td>0</td>\n",
       "      <td>0</td>\n",
       "      <td>0</td>\n",
       "      <td>1</td>\n",
       "      <td>0</td>\n",
       "      <td>0</td>\n",
       "      <td>1</td>\n",
       "      <td>0</td>\n",
       "      <td>0.604</td>\n",
       "      <td>0.511</td>\n",
       "      <td>67.602936</td>\n",
       "    </tr>\n",
       "    <tr>\n",
       "      <th>2</th>\n",
       "      <td>One dime</td>\n",
       "      <td>0</td>\n",
       "      <td>0</td>\n",
       "      <td>0</td>\n",
       "      <td>0</td>\n",
       "      <td>0</td>\n",
       "      <td>0</td>\n",
       "      <td>0</td>\n",
       "      <td>0</td>\n",
       "      <td>0</td>\n",
       "      <td>0.011</td>\n",
       "      <td>0.116</td>\n",
       "      <td>32.261086</td>\n",
       "    </tr>\n",
       "    <tr>\n",
       "      <th>3</th>\n",
       "      <td>One quarter</td>\n",
       "      <td>0</td>\n",
       "      <td>0</td>\n",
       "      <td>0</td>\n",
       "      <td>0</td>\n",
       "      <td>0</td>\n",
       "      <td>0</td>\n",
       "      <td>0</td>\n",
       "      <td>0</td>\n",
       "      <td>0</td>\n",
       "      <td>0.011</td>\n",
       "      <td>0.511</td>\n",
       "      <td>46.116505</td>\n",
       "    </tr>\n",
       "    <tr>\n",
       "      <th>4</th>\n",
       "      <td>Air Heads</td>\n",
       "      <td>0</td>\n",
       "      <td>1</td>\n",
       "      <td>0</td>\n",
       "      <td>0</td>\n",
       "      <td>0</td>\n",
       "      <td>0</td>\n",
       "      <td>0</td>\n",
       "      <td>0</td>\n",
       "      <td>0</td>\n",
       "      <td>0.906</td>\n",
       "      <td>0.511</td>\n",
       "      <td>52.341465</td>\n",
       "    </tr>\n",
       "  </tbody>\n",
       "</table>\n",
       "</div>"
      ],
      "text/plain": [
       "  competitorname  chocolate  fruity  caramel  peanutyalmondy  nougat  \\\n",
       "0      100 Grand          1       0        1               0       0   \n",
       "1   3 Musketeers          1       0        0               0       1   \n",
       "2       One dime          0       0        0               0       0   \n",
       "3    One quarter          0       0        0               0       0   \n",
       "4      Air Heads          0       1        0               0       0   \n",
       "\n",
       "   crispedricewafer  hard  bar  pluribus  sugarpercent  pricepercent  \\\n",
       "0                 1     0    1         0         0.732         0.860   \n",
       "1                 0     0    1         0         0.604         0.511   \n",
       "2                 0     0    0         0         0.011         0.116   \n",
       "3                 0     0    0         0         0.011         0.511   \n",
       "4                 0     0    0         0         0.906         0.511   \n",
       "\n",
       "   winpercent  \n",
       "0   66.971725  \n",
       "1   67.602936  \n",
       "2   32.261086  \n",
       "3   46.116505  \n",
       "4   52.341465  "
      ]
     },
     "execution_count": 4,
     "metadata": {},
     "output_type": "execute_result"
    }
   ],
   "source": [
    "# Exploring the first 5 rows:\n",
    "candy.head()"
   ]
  },
  {
   "cell_type": "code",
   "execution_count": 5,
   "id": "d1fd833f-5f8c-49e4-82d2-a3c82e2f062c",
   "metadata": {},
   "outputs": [],
   "source": [
    "# Dropping the first column:\n",
    "final_data = candy.drop(columns='competitorname')"
   ]
  },
  {
   "cell_type": "code",
   "execution_count": 6,
   "id": "a4bd4188-9310-41b4-bb0f-232dbda55c0d",
   "metadata": {},
   "outputs": [],
   "source": [
    "# defining a function to split the data into X & y:\n",
    "def split_data(data, y_col):\n",
    "    \n",
    "    features = [col for col in data.columns if col != y_col]\n",
    "    \n",
    "    X = data[features].copy()\n",
    "    y = data[y_col].copy()\n",
    "    \n",
    "    return X, y"
   ]
  },
  {
   "cell_type": "code",
   "execution_count": 7,
   "id": "352dadc9-7644-477b-8266-f358c04cc2ac",
   "metadata": {},
   "outputs": [],
   "source": [
    "# Splitting the data into feature matrix (X) & target column (y):\n",
    "X, y = split_data(final_data, 'winpercent')"
   ]
  },
  {
   "cell_type": "code",
   "execution_count": 8,
   "id": "990a46ba-4913-4952-a90d-40392f9b0749",
   "metadata": {},
   "outputs": [],
   "source": [
    "# Splitting the data into training & hold-out sets:\n",
    "X_train, X_test, y_train, y_test = train_test_split(X, y, train_size=50, random_state=42)"
   ]
  },
  {
   "cell_type": "code",
   "execution_count": 9,
   "id": "b784f656-b0b8-4315-925a-27bc3ee9cfa6",
   "metadata": {},
   "outputs": [
    {
     "data": {
      "text/plain": [
       "RandomForestRegressor()"
      ]
     },
     "execution_count": 9,
     "metadata": {},
     "output_type": "execute_result"
    }
   ],
   "source": [
    "# Initializing & fitting the model\n",
    "model = RandomForestRegressor()\n",
    "model.fit(X_train, y_train)"
   ]
  },
  {
   "cell_type": "code",
   "execution_count": 10,
   "id": "d75cd024-5f43-4587-b443-149454ba4b9a",
   "metadata": {},
   "outputs": [],
   "source": [
    "# Creating predictions necessary for model evaluation:\n",
    "train_predictions = model.predict(X_train)\n",
    "test_predictions = model.predict(X_test)"
   ]
  },
  {
   "cell_type": "markdown",
   "id": "ffe8f794-d359-4c96-8f21-b4f291276861",
   "metadata": {},
   "source": [
    "- Calculate model accuracy on both data the model has seen and data the model has not seen before."
   ]
  },
  {
   "cell_type": "code",
   "execution_count": 11,
   "id": "b4a1d2f1-3d84-484e-83af-408750fc54f8",
   "metadata": {},
   "outputs": [],
   "source": [
    "# Evaluating model:\n",
    "train_errors = mae(y_train, train_predictions)\n",
    "test_errors = mae(y_test, test_predictions)"
   ]
  },
  {
   "cell_type": "markdown",
   "id": "5fcae137-4939-47dc-92d2-f242349acfe4",
   "metadata": {},
   "source": [
    "- Use the `print` statements to print the seen and unseen data."
   ]
  },
  {
   "cell_type": "code",
   "execution_count": 12,
   "id": "8bc541ae-03d3-4195-8daa-e64fdfc33520",
   "metadata": {},
   "outputs": [
    {
     "name": "stdout",
     "output_type": "stream",
     "text": [
      "Model error on seen data: 3.37.\n",
      "Model error on unseen data: 10.58.\n"
     ]
    }
   ],
   "source": [
    "# Printing the errors:\n",
    "print(f\"Model error on seen data: {train_errors:.2f}.\")\n",
    "print(f\"Model error on unseen data: {test_errors:.2f}.\")"
   ]
  },
  {
   "cell_type": "markdown",
   "id": "83538d56-5d13-4670-9ce0-92c6ca181a0b",
   "metadata": {},
   "source": [
    "## 2. Regression models"
   ]
  },
  {
   "cell_type": "markdown",
   "id": "f44869d2-fe94-43b1-9329-1ca5a7077f30",
   "metadata": {},
   "source": [
    "### 2.1. Set parameters and fit a model"
   ]
  },
  {
   "cell_type": "markdown",
   "id": "69e294f4-c105-4da5-8b9f-1f95f6b28af6",
   "metadata": {},
   "source": [
    "Predictive tasks fall into one of two categories: regression or classification. In the candy dataset, the outcome is a continuous variable describing how often the candy was chosen over another candy in a series of 1-on-1 match-ups. To predict this value (the win-percentage), you will use a regression model.\n",
    "\n",
    "In this exercise, you will specify a few parameters using a random forest regression model `rfr`."
   ]
  },
  {
   "cell_type": "markdown",
   "id": "b8e5cc20-160c-4689-a1f5-84fcea374b42",
   "metadata": {},
   "source": [
    "- Add a parameter to `rfr` so that the number of trees built is 100 and the maximum depth of these trees is 6."
   ]
  },
  {
   "cell_type": "code",
   "execution_count": 13,
   "id": "ce6ed30c-10b5-44fc-b0f2-72d1765bdc06",
   "metadata": {},
   "outputs": [],
   "source": [
    "# Initializing the model with no hyperparameters:\n",
    "rfr = RandomForestRegressor()"
   ]
  },
  {
   "cell_type": "code",
   "execution_count": 14,
   "id": "244d747e-04bd-4221-97ef-c396b17a299d",
   "metadata": {},
   "outputs": [],
   "source": [
    "# Setting n_estimators & max_depth:\n",
    "rfr.n_estimators = 100\n",
    "rfr.max_depth = 6"
   ]
  },
  {
   "cell_type": "markdown",
   "id": "00cbc1eb-a9df-4113-81be-546b3e8a7afa",
   "metadata": {},
   "source": [
    "- Make sure the model is reproducible by adding a random state of 1111."
   ]
  },
  {
   "cell_type": "code",
   "execution_count": 15,
   "id": "b8ad4544-c669-4a2f-9b15-ca4a6f39f4f9",
   "metadata": {},
   "outputs": [],
   "source": [
    "# Setting random_state:\n",
    "rfr.random_state = 1111"
   ]
  },
  {
   "cell_type": "markdown",
   "id": "0e568522-1df4-482b-9ed9-139f01e921fe",
   "metadata": {},
   "source": [
    "- Use the `.fit()` method to train the random forest regression model with `X_train` as the input data and `y_train` as the response."
   ]
  },
  {
   "cell_type": "code",
   "execution_count": 16,
   "id": "d84d4e63-6976-4f14-a088-f4a3a06281e8",
   "metadata": {},
   "outputs": [
    {
     "data": {
      "text/plain": [
       "RandomForestRegressor(max_depth=6, random_state=1111)"
      ]
     },
     "execution_count": 16,
     "metadata": {},
     "output_type": "execute_result"
    }
   ],
   "source": [
    "# Fitting the model:\n",
    "rfr.fit(X_train, y_train)"
   ]
  },
  {
   "cell_type": "markdown",
   "id": "8e8c6939-8571-4394-8703-fae633aec5fd",
   "metadata": {},
   "source": [
    "### 2.2. Feature importances"
   ]
  },
  {
   "cell_type": "markdown",
   "id": "18aca4a5-12b8-4fdc-b58d-27e50f173967",
   "metadata": {},
   "source": [
    "Although some candy attributes, such as chocolate, may be extremely popular, it doesn't mean they will be important to model prediction. After a random forest model has been fit, you can review the model's attribute, `.feature_importances_`, to see which variables had the biggest impact. You can check how important each variable was in the model by looping over the feature importance array using `enumerate()`.\n",
    "\n",
    "If you are unfamiliar with Python's `enumerate()` function, it can loop over a list while also creating an automatic counter."
   ]
  },
  {
   "cell_type": "markdown",
   "id": "5ca3df60-b376-431c-99e9-27de25df5a58",
   "metadata": {},
   "source": [
    "- Loop through the feature importance output of `rfr`.\n",
    "- Print the column names of `X_train` and the importance score for that column."
   ]
  },
  {
   "cell_type": "code",
   "execution_count": 17,
   "id": "fc012991-b9c4-49d8-a097-9829410d798e",
   "metadata": {},
   "outputs": [],
   "source": [
    "# Extracting feature importances:\n",
    "imps = rfr.feature_importances_"
   ]
  },
  {
   "cell_type": "code",
   "execution_count": 18,
   "id": "aa4700f3-f95c-4952-9e56-b8cf536805b3",
   "metadata": {},
   "outputs": [
    {
     "name": "stdout",
     "output_type": "stream",
     "text": [
      "1. chocolate: 0.34\n",
      "2. fruity: 0.04\n",
      "3. caramel: 0.01\n",
      "4. peanutyalmondy: 0.08\n",
      "5. nougat: 0.01\n",
      "6. crispedricewafer: 0.01\n",
      "7. hard: 0.02\n",
      "8. bar: 0.09\n",
      "9. pluribus: 0.02\n",
      "10. sugarpercent: 0.17\n",
      "11. pricepercent: 0.20\n"
     ]
    }
   ],
   "source": [
    "# Iterating over features & feature importances:\n",
    "for i, imp in enumerate(imps):\n",
    "    print(f\"{i+1}. {X.columns[i]}: {imp:.2f}\")"
   ]
  },
  {
   "cell_type": "markdown",
   "id": "2e3ef4af-e78a-4a70-8890-9368121bdc47",
   "metadata": {},
   "source": [
    "## 3. Classification models"
   ]
  },
  {
   "cell_type": "markdown",
   "id": "cdea48df-109e-47f3-8794-3043191c4667",
   "metadata": {},
   "source": [
    "### 3.1. Classification predictions"
   ]
  },
  {
   "cell_type": "markdown",
   "id": "25f361f4-5687-4935-8605-0af5860020ce",
   "metadata": {},
   "source": [
    "In model validation, it is often important to know more about the predictions than just the final classification. When predicting who will win a game, most people are also interested in how likely it is a team will win."
   ]
  },
  {
   "attachments": {
    "edd11785-7fa6-4887-a168-d31451ab3dbb.png": {
     "image/png": "[encoded data removed]"
    }
   },
   "cell_type": "markdown",
   "id": "5e7b6461-c8a2-4007-bfb4-da1d25498df2",
   "metadata": {},
   "source": [
    "![image.png](attachment:edd11785-7fa6-4887-a168-d31451ab3dbb.png)"
   ]
  },
  {
   "cell_type": "markdown",
   "id": "a3973828-2e19-4a8c-8ea5-cbe0a0d5e851",
   "metadata": {},
   "source": [
    "In this exercise, you look at the methods, `.predict()` and `.predict_proba()` using the `tic_tac_toe` dataset. The first method will give a prediction of whether Player One will win the game, and the second method will provide the probability of Player One winning. Use rfc as the random forest classification model."
   ]
  },
  {
   "cell_type": "markdown",
   "id": "03a161db-c771-4b6a-b68a-9d155c460c10",
   "metadata": {},
   "source": [
    "- Create two arrays of predictions. One for the classification values and one for the predicted probabilities."
   ]
  },
  {
   "cell_type": "code",
   "execution_count": 19,
   "id": "079ac3d0-bd51-4480-8893-28926f3ade09",
   "metadata": {},
   "outputs": [],
   "source": [
    "# Reading the data:\n",
    "tic_tac_toe = pd.read_csv(\"./data/tic-tac-toe.csv\")"
   ]
  },
  {
   "cell_type": "code",
   "execution_count": 20,
   "id": "b55db08a-efcd-4eb2-890a-53030508c607",
   "metadata": {},
   "outputs": [
    {
     "data": {
      "text/plain": [
       "(958, 10)"
      ]
     },
     "execution_count": 20,
     "metadata": {},
     "output_type": "execute_result"
    }
   ],
   "source": [
    "# Exploring the data shape:\n",
    "tic_tac_toe.shape"
   ]
  },
  {
   "cell_type": "code",
   "execution_count": 21,
   "id": "01c3e7cf-e2ec-40b9-82df-caf9b6ec126b",
   "metadata": {},
   "outputs": [
    {
     "data": {
      "text/html": [
       "<div>\n",
       "<style scoped>\n",
       "    .dataframe tbody tr th:only-of-type {\n",
       "        vertical-align: middle;\n",
       "    }\n",
       "\n",
       "    .dataframe tbody tr th {\n",
       "        vertical-align: top;\n",
       "    }\n",
       "\n",
       "    .dataframe thead th {\n",
       "        text-align: right;\n",
       "    }\n",
       "</style>\n",
       "<table border=\"1\" class=\"dataframe\">\n",
       "  <thead>\n",
       "    <tr style=\"text-align: right;\">\n",
       "      <th></th>\n",
       "      <th>Top-Left</th>\n",
       "      <th>Top-Middle</th>\n",
       "      <th>Top-Right</th>\n",
       "      <th>Middle-Left</th>\n",
       "      <th>Middle-Middle</th>\n",
       "      <th>Middle-Right</th>\n",
       "      <th>Bottom-Left</th>\n",
       "      <th>Bottom-Middle</th>\n",
       "      <th>Bottom-Right</th>\n",
       "      <th>Class</th>\n",
       "    </tr>\n",
       "  </thead>\n",
       "  <tbody>\n",
       "    <tr>\n",
       "      <th>0</th>\n",
       "      <td>x</td>\n",
       "      <td>x</td>\n",
       "      <td>x</td>\n",
       "      <td>x</td>\n",
       "      <td>o</td>\n",
       "      <td>o</td>\n",
       "      <td>x</td>\n",
       "      <td>o</td>\n",
       "      <td>o</td>\n",
       "      <td>positive</td>\n",
       "    </tr>\n",
       "    <tr>\n",
       "      <th>1</th>\n",
       "      <td>x</td>\n",
       "      <td>x</td>\n",
       "      <td>x</td>\n",
       "      <td>x</td>\n",
       "      <td>o</td>\n",
       "      <td>o</td>\n",
       "      <td>o</td>\n",
       "      <td>x</td>\n",
       "      <td>o</td>\n",
       "      <td>positive</td>\n",
       "    </tr>\n",
       "    <tr>\n",
       "      <th>2</th>\n",
       "      <td>x</td>\n",
       "      <td>x</td>\n",
       "      <td>x</td>\n",
       "      <td>x</td>\n",
       "      <td>o</td>\n",
       "      <td>o</td>\n",
       "      <td>o</td>\n",
       "      <td>o</td>\n",
       "      <td>x</td>\n",
       "      <td>positive</td>\n",
       "    </tr>\n",
       "    <tr>\n",
       "      <th>3</th>\n",
       "      <td>x</td>\n",
       "      <td>x</td>\n",
       "      <td>x</td>\n",
       "      <td>x</td>\n",
       "      <td>o</td>\n",
       "      <td>o</td>\n",
       "      <td>o</td>\n",
       "      <td>b</td>\n",
       "      <td>b</td>\n",
       "      <td>positive</td>\n",
       "    </tr>\n",
       "    <tr>\n",
       "      <th>4</th>\n",
       "      <td>x</td>\n",
       "      <td>x</td>\n",
       "      <td>x</td>\n",
       "      <td>x</td>\n",
       "      <td>o</td>\n",
       "      <td>o</td>\n",
       "      <td>b</td>\n",
       "      <td>o</td>\n",
       "      <td>b</td>\n",
       "      <td>positive</td>\n",
       "    </tr>\n",
       "  </tbody>\n",
       "</table>\n",
       "</div>"
      ],
      "text/plain": [
       "  Top-Left Top-Middle Top-Right Middle-Left Middle-Middle Middle-Right  \\\n",
       "0        x          x         x           x             o            o   \n",
       "1        x          x         x           x             o            o   \n",
       "2        x          x         x           x             o            o   \n",
       "3        x          x         x           x             o            o   \n",
       "4        x          x         x           x             o            o   \n",
       "\n",
       "  Bottom-Left Bottom-Middle Bottom-Right     Class  \n",
       "0           x             o            o  positive  \n",
       "1           o             x            o  positive  \n",
       "2           o             o            x  positive  \n",
       "3           o             b            b  positive  \n",
       "4           b             o            b  positive  "
      ]
     },
     "execution_count": 21,
     "metadata": {},
     "output_type": "execute_result"
    }
   ],
   "source": [
    "# Exploring the first 5 rows:\n",
    "tic_tac_toe.head()"
   ]
  },
  {
   "cell_type": "code",
   "execution_count": 22,
   "id": "189d2cf9-9857-4a8c-9423-28c7310d187a",
   "metadata": {},
   "outputs": [],
   "source": [
    "# Encoding the target column into (0 / 1):\n",
    "tic_tac_toe['Class'] = tic_tac_toe['Class'].apply(lambda x : 1 if x == 'positive' else 0)"
   ]
  },
  {
   "cell_type": "code",
   "execution_count": 23,
   "id": "e0fc24e4-3ae2-492a-ae40-d44e0179d1f9",
   "metadata": {},
   "outputs": [],
   "source": [
    "# Encoding the feaatures into (0 / 1):\n",
    "features = [col for col in tic_tac_toe.columns if col != 'Class']\n",
    "tic_tac_toe = pd.get_dummies(data=tic_tac_toe, columns=features)"
   ]
  },
  {
   "cell_type": "code",
   "execution_count": 24,
   "id": "40b52fe9-39b2-46a6-858f-82b4f1a5513e",
   "metadata": {},
   "outputs": [],
   "source": [
    "# Slpitting the data into features matrix (X) & target column (y):\n",
    "X, y = split_data(tic_tac_toe, 'Class')"
   ]
  },
  {
   "cell_type": "code",
   "execution_count": 25,
   "id": "7b83c6c1-7fdf-4c04-a4ae-6bacc4185e9b",
   "metadata": {},
   "outputs": [],
   "source": [
    "# Splitting the data into training & hold-out sets:\n",
    "X_train, X_test, y_train, y_test = train_test_split(X, y, test_size=767, random_state=42)"
   ]
  },
  {
   "cell_type": "code",
   "execution_count": 26,
   "id": "301b4e3b-d873-4940-9be8-926a1b4f08e8",
   "metadata": {},
   "outputs": [
    {
     "data": {
      "text/plain": [
       "RandomForestClassifier()"
      ]
     },
     "execution_count": 26,
     "metadata": {},
     "output_type": "execute_result"
    }
   ],
   "source": [
    "# Initializing & fitting the model:\n",
    "rfc = RandomForestClassifier()\n",
    "rfc.fit(X_train, y_train)"
   ]
  },
  {
   "cell_type": "code",
   "execution_count": 27,
   "id": "da50248e-56ce-48f5-a2d7-b1fcce66dff2",
   "metadata": {},
   "outputs": [],
   "source": [
    "# Making predictions necessary for model evaluation:\n",
    "classification_predictions = rfc.predict(X_test)\n",
    "probability_predictions = rfc.predict_proba(X_test)"
   ]
  },
  {
   "cell_type": "markdown",
   "id": "73a93a33-4b0f-4209-9d1b-243831785fbc",
   "metadata": {},
   "source": [
    "- Use the `.value_counts()` method for a pandas Series to print the number of observations that were assigned to each class."
   ]
  },
  {
   "cell_type": "code",
   "execution_count": 28,
   "id": "af6e7d88-d36c-4dad-a10d-c8fa92eb5f53",
   "metadata": {},
   "outputs": [
    {
     "data": {
      "text/plain": [
       "1    583\n",
       "0    184\n",
       "dtype: int64"
      ]
     },
     "execution_count": 28,
     "metadata": {},
     "output_type": "execute_result"
    }
   ],
   "source": [
    "# Getting the count of each class:\n",
    "classification_predictions = pd.Series(classification_predictions)\n",
    "classification_predictions.value_counts()"
   ]
  },
  {
   "cell_type": "markdown",
   "id": "c6449818-40b1-491d-9f99-3105c134c525",
   "metadata": {},
   "source": [
    "- Print the first observation of `probability_predictions` to see how the probabilities are structured."
   ]
  },
  {
   "cell_type": "code",
   "execution_count": 29,
   "id": "42b32424-6179-4bbc-bfbd-42d8222bd841",
   "metadata": {},
   "outputs": [
    {
     "name": "stdout",
     "output_type": "stream",
     "text": [
      "The first predicted probabilities are: [0.49 0.51]\n"
     ]
    }
   ],
   "source": [
    "# Printing the first prediction probability:\n",
    "print(f\"The first predicted probabilities are: {probability_predictions[0]}\")"
   ]
  },
  {
   "cell_type": "markdown",
   "id": "d3eca59f-a42d-4fa1-b662-ff989102a5cd",
   "metadata": {},
   "source": [
    "### 3.2. Reusing model parameters"
   ]
  },
  {
   "cell_type": "markdown",
   "id": "71710aa0-531d-4221-b90b-555235001176",
   "metadata": {},
   "source": [
    "Replicating model performance is vital in model validation. Replication is also important when sharing models with co-workers, reusing models on new data or asking questions on a website such as Stack Overflow. You might use such a site to ask other coders about model errors, output, or performance. The best way to do this is to replicate your work by reusing model parameters.\n",
    "\n",
    "In this exercise, you use various methods to recall which parameters were used in a model."
   ]
  },
  {
   "cell_type": "markdown",
   "id": "9e9b4584-246e-4eb8-93b5-536ba630ccdd",
   "metadata": {},
   "source": [
    "- Print out the characteristics of the model `rfc` by simply printing the model."
   ]
  },
  {
   "cell_type": "code",
   "execution_count": 30,
   "id": "3b69559a-0df4-43fd-b199-2a9c8a9350d1",
   "metadata": {},
   "outputs": [],
   "source": [
    "# Initializing the model with random state = 1111 (the rest hyperparameters were predefined):\n",
    "rfc = RandomForestClassifier(n_estimators=50, max_depth=6, random_state=1111)"
   ]
  },
  {
   "cell_type": "code",
   "execution_count": 31,
   "id": "f6b9c8a8-14a9-4f23-be48-895d6888b6d5",
   "metadata": {},
   "outputs": [
    {
     "name": "stdout",
     "output_type": "stream",
     "text": [
      "RandomForestClassifier(max_depth=6, n_estimators=50, random_state=1111)\n"
     ]
    }
   ],
   "source": [
    "# Printing the model:\n",
    "print(rfc)"
   ]
  },
  {
   "cell_type": "markdown",
   "id": "1dc80f20-17b5-4f7b-93a8-b38501db25b4",
   "metadata": {},
   "source": [
    "- Print just the random state of the model."
   ]
  },
  {
   "cell_type": "code",
   "execution_count": 32,
   "id": "c390085e-4855-496e-a2a8-3153a7105cfa",
   "metadata": {},
   "outputs": [
    {
     "name": "stdout",
     "output_type": "stream",
     "text": [
      "The random state is: 1111\n"
     ]
    }
   ],
   "source": [
    "# Printing the random state:\n",
    "print(f\"The random state is: {rfc.random_state}\")"
   ]
  },
  {
   "cell_type": "markdown",
   "id": "822a9ef8-bd73-4742-9165-2de83b198265",
   "metadata": {},
   "source": [
    "- Print the dictionary of model parameters."
   ]
  },
  {
   "cell_type": "code",
   "execution_count": 33,
   "id": "0c84a6fb-6925-4c1a-8e87-5daad4d6fc5e",
   "metadata": {},
   "outputs": [
    {
     "name": "stdout",
     "output_type": "stream",
     "text": [
      "Printing the parameters dictionary: {'bootstrap': True, 'ccp_alpha': 0.0, 'class_weight': None, 'criterion': 'gini', 'max_depth': 6, 'max_features': 'auto', 'max_leaf_nodes': None, 'max_samples': None, 'min_impurity_decrease': 0.0, 'min_samples_leaf': 1, 'min_samples_split': 2, 'min_weight_fraction_leaf': 0.0, 'n_estimators': 50, 'n_jobs': None, 'oob_score': False, 'random_state': 1111, 'verbose': 0, 'warm_start': False}\n"
     ]
    }
   ],
   "source": [
    "# Printing the model parameters using .get_params():\n",
    "print(f\"Printing the parameters dictionary: {rfc.get_params()}\")"
   ]
  },
  {
   "cell_type": "markdown",
   "id": "7a7ff914-e48f-43d1-b13b-761c92636b8e",
   "metadata": {},
   "source": [
    "### 3.3. Random forest classifier"
   ]
  },
  {
   "cell_type": "markdown",
   "id": "4b5079d6-eb35-4b55-b671-19d8e29637bb",
   "metadata": {},
   "source": [
    "This exercise reviews the four modeling steps discussed throughout this chapter using a random forest classification model. You will:\n",
    "\n",
    "1. Create a random forest classification model.\n",
    "2. Fit the model using the `tic_tac_toe` dataset.\n",
    "3. Make predictions on whether Player One will win (1) or lose (0) the current game.\n",
    "4. Finally, you will evaluate the overall accuracy of the model.\n",
    "\n",
    "Let's get started!"
   ]
  },
  {
   "cell_type": "markdown",
   "id": "106aca8c-61b7-4b9b-98ae-f16289421b0b",
   "metadata": {},
   "source": [
    "- Create `rfc` using the scikit-learn implementation of random forest classifiers and set a random state of 1111."
   ]
  },
  {
   "cell_type": "code",
   "execution_count": 34,
   "id": "22b630d9-e788-40d6-8104-2be9f1003e76",
   "metadata": {},
   "outputs": [],
   "source": [
    "# Initializing the model:\n",
    "rfc = RandomForestClassifier(n_estimators=50, max_depth=6, random_state=1111)"
   ]
  },
  {
   "cell_type": "markdown",
   "id": "66907768-84ba-49f6-a3c3-a80894ed3d94",
   "metadata": {},
   "source": [
    "- Fit rfc using `X_train` for the training data and `y_train` for the responses."
   ]
  },
  {
   "cell_type": "code",
   "execution_count": 35,
   "id": "67b2fd46-604d-41ea-9cbf-0d3cf2499404",
   "metadata": {},
   "outputs": [
    {
     "data": {
      "text/plain": [
       "RandomForestClassifier(max_depth=6, n_estimators=50, random_state=1111)"
      ]
     },
     "execution_count": 35,
     "metadata": {},
     "output_type": "execute_result"
    }
   ],
   "source": [
    "# Fitting the model:\n",
    "rfc.fit(X_train, y_train)"
   ]
  },
  {
   "cell_type": "markdown",
   "id": "11c2db56-3afd-436f-944c-c62f5d163c65",
   "metadata": {},
   "source": [
    "- Predict the class values for `X_test`."
   ]
  },
  {
   "cell_type": "code",
   "execution_count": 36,
   "id": "fa6cdc9c-41cf-4cdb-9f01-d35c6415b7d3",
   "metadata": {},
   "outputs": [
    {
     "name": "stdout",
     "output_type": "stream",
     "text": [
      "[1 1 1 1 0]\n"
     ]
    }
   ],
   "source": [
    "# Making predictions:\n",
    "predictions = rfc.predict(X_test)\n",
    "print(predictions[:5])"
   ]
  },
  {
   "cell_type": "markdown",
   "id": "ff823939-e006-4b9f-af24-3a13a5584274",
   "metadata": {},
   "source": [
    "- Use the method `.score()` to print an accuracy metric for `X_test` given the actual values `y_test`."
   ]
  },
  {
   "cell_type": "code",
   "execution_count": 37,
   "id": "4e5abfa3-f1ca-4f4b-a4d6-eaa4303c2688",
   "metadata": {},
   "outputs": [
    {
     "name": "stdout",
     "output_type": "stream",
     "text": [
      "0.7979139504563233\n"
     ]
    }
   ],
   "source": [
    "# Printing model score:\n",
    "print(rfc.score(X_test, y_test))"
   ]
  }
 ],
 "metadata": {
  "kernelspec": {
   "display_name": "Python 3 (ipykernel)",
   "language": "python",
   "name": "python3"
  },
  "language_info": {
   "codemirror_mode": {
    "name": "ipython",
    "version": 3
   },
   "file_extension": ".py",
   "mimetype": "text/x-python",
   "name": "python",
   "nbconvert_exporter": "python",
   "pygments_lexer": "ipython3",
   "version": "3.9.7"
  }
 },
 "nbformat": 4,
 "nbformat_minor": 5
}
